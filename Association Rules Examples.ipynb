{
 "cells": [
  {
   "cell_type": "markdown",
   "metadata": {},
   "source": [
    "# Association Rule Mining\n",
    "This notebooks ...\n",
    "\n",
    "http://r-statistics.co/Association-Mining-With-R.html\n",
    "\n",
    "First we load the R library for association rule mining. Note that there is no such thing in Python and only basic implementations are available for Python."
   ]
  },
  {
   "cell_type": "code",
   "execution_count": 6,
   "metadata": {
    "pycharm": {
     "name": "#%%\n"
    }
   },
   "outputs": [
    {
     "ename": "NameError",
     "evalue": "name 'library' is not defined",
     "output_type": "error",
     "traceback": [
      "\u001B[0;31m---------------------------------------------------------------------------\u001B[0m",
      "\u001B[0;31mNameError\u001B[0m                                 Traceback (most recent call last)",
      "\u001B[0;32m/var/folders/lq/0dhm_6dj6xldn0t1s65l8n8h0000gn/T/ipykernel_5845/1018051595.py\u001B[0m in \u001B[0;36m<module>\u001B[0;34m\u001B[0m\n\u001B[0;32m----> 1\u001B[0;31m \u001B[0mlibrary\u001B[0m\u001B[0;34m(\u001B[0m\u001B[0marules\u001B[0m\u001B[0;34m)\u001B[0m\u001B[0;34m\u001B[0m\u001B[0;34m\u001B[0m\u001B[0m\n\u001B[0m\u001B[1;32m      2\u001B[0m \u001B[0;34m\u001B[0m\u001B[0m\n",
      "\u001B[0;31mNameError\u001B[0m: name 'library' is not defined"
     ]
    }
   ],
   "source": [
    "library(arules)"
   ]
  },
  {
   "cell_type": "markdown",
   "metadata": {},
   "source": [
    "Load an example data set about groceries"
   ]
  },
  {
   "cell_type": "code",
   "execution_count": null,
   "metadata": {},
   "outputs": [],
   "source": [
    "data(Groceries)\n",
    "inspect(head(Groceries, 10))"
   ]
  },
  {
   "cell_type": "markdown",
   "metadata": {},
   "source": [
    "Check the number of items in the top five transactions."
   ]
  },
  {
   "cell_type": "code",
   "execution_count": null,
   "metadata": {},
   "outputs": [],
   "source": [
    "size(head(Groceries,10))"
   ]
  },
  {
   "cell_type": "code",
   "execution_count": null,
   "metadata": {},
   "outputs": [],
   "source": [
    "ap_frequent_itemsets <- apriori(Groceries, parameter = list (target=\"frequent itemsets\", supp = 0.001, conf = 0.5, maxlen=3)) # maxlen = 3 limits the elements in a rule to 3"
   ]
  },
  {
   "cell_type": "code",
   "execution_count": null,
   "metadata": {},
   "outputs": [],
   "source": [
    "inspect(head(ap_frequent_itemsets,10))"
   ]
  },
  {
   "cell_type": "code",
   "execution_count": null,
   "metadata": {},
   "outputs": [],
   "source": [
    "# maxlen = 3 limits the elements in a rule to 3\n",
    "rules <- apriori(Groceries, parameter = list (supp = 0.001, conf = 0.5, maxlen=3)) "
   ]
  },
  {
   "cell_type": "code",
   "execution_count": null,
   "metadata": {},
   "outputs": [],
   "source": [
    "frequentItems <- eclat (Groceries, parameter = list(supp = 0.07, maxlen = 15)) # calculates support for frequent items inspect(frequentItems)\n"
   ]
  },
  {
   "cell_type": "code",
   "execution_count": null,
   "metadata": {},
   "outputs": [],
   "source": [
    "LIST(head(Groceries, 3))"
   ]
  },
  {
   "cell_type": "code",
   "execution_count": null,
   "metadata": {},
   "outputs": [],
   "source": [
    "# plot frequent items\n",
    "itemFrequencyPlot(Groceries, names = FALSE, topN=100, type=\"absolute\", main=\"Item Frequency\") "
   ]
  },
  {
   "cell_type": "code",
   "execution_count": null,
   "metadata": {},
   "outputs": [],
   "source": [
    "# Min Support as 0.001, confidence as 0.8.\n",
    "rules <- apriori (Groceries, parameter = list(supp = 0.001, conf = 0.5)) \n",
    "\n",
    "# 'high-confidence' rules.\n",
    "rules_conf <- sort (rules, by=\"confidence\", decreasing=TRUE) \n",
    "inspect(head(rules_conf)) "
   ]
  },
  {
   "cell_type": "code",
   "execution_count": null,
   "metadata": {},
   "outputs": [],
   "source": [
    "rules_lift <- sort (rules, by=\"lift\", decreasing=TRUE) # 'high-lift' rules.\n",
    "inspect(head(rules_lift)) # show the support, lift and confidence for all rules"
   ]
  },
  {
   "cell_type": "code",
   "execution_count": null,
   "metadata": {},
   "outputs": [],
   "source": [
    "subsetRules <- which(colSums(is.subset(rules, rules)) > 1) # get subset rules in vector\n",
    "length(subsetRules)  #> 3913\n",
    "rules <- rules[-subsetRules] # remove subset rules. "
   ]
  },
  {
   "cell_type": "markdown",
   "metadata": {},
   "source": [
    "This can be achieved by modifying the appearance parameter in the apriori() function. For example,\n",
    "\n",
    "To find what factors influenced purchase of product X\n",
    "\n",
    "To find out what customers had purchased before buying ‘Whole Milk’. This will help you understand the patterns that led to the purchase of ‘whole milk’."
   ]
  },
  {
   "cell_type": "code",
   "execution_count": null,
   "metadata": {},
   "outputs": [],
   "source": [
    "rules <- apriori (data=Groceries, parameter=list (supp=0.001,conf = 0.08), appearance = list (default=\"lhs\",rhs=\"whole milk\"), control = list (verbose=F)) # get rules that lead to buying 'whole milk'\n",
    "rules_conf <- sort (rules, by=\"confidence\", decreasing=TRUE) # 'high-confidence' rules.\n",
    "inspect(head(rules_conf))"
   ]
  },
  {
   "cell_type": "code",
   "execution_count": null,
   "metadata": {},
   "outputs": [],
   "source": [
    "rules <- apriori (data=Groceries, parameter=list (supp=0.001,conf = 0.15,minlen=2), appearance = list(default=\"rhs\",lhs=\"whole milk\"), control = list (verbose=F)) # those who bought 'milk' also bought..\n",
    "rules_conf <- sort (rules, by=\"confidence\", decreasing=TRUE) # 'high-confidence' rules.\n",
    "inspect(head(rules_conf))"
   ]
  }
 ],
 "metadata": {
  "kernelspec": {
   "display_name": "Python 3",
   "language": "python",
   "name": "python3"
  },
  "language_info": {
   "codemirror_mode": {
    "name": "ipython",
    "version": 3
   },
   "file_extension": ".py",
   "mimetype": "text/x-python",
   "name": "python",
   "nbconvert_exporter": "python",
   "pygments_lexer": "ipython3",
   "version": "3.7.6"
  }
 },
 "nbformat": 4,
 "nbformat_minor": 4
}